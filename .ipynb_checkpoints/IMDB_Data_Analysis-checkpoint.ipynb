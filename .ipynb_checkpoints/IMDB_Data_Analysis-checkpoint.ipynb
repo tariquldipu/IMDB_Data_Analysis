{
 "cells": [
  {
   "cell_type": "markdown",
   "id": "63ae5307",
   "metadata": {},
   "source": [
    "IMDB (Internet Movie Databse) is the world's largest source for everything related to movies, tv shows and so on. In this notebook, I'll try to analyze some data from IMDB to anser some interesting questions using Python. \n",
    "Questions like---\n",
    "    1. What kind of data does the IMDB online databse cover and host?\n",
    "    2. What kind of ratigs do people give in general? What movies get the best ratings and whether it's a normal distribution?\n",
    "    3. Based on my favpourite movies, which ones should I also check next time? \n",
    "    \n",
    "\n",
    "The dataset was downloaded from https://datasets.imdbws.com. In my analysis, I'll focus on mainly 2 datasets (title.basics and title.ratings) which offers 9 and 3 features respectively that include the title ID, name, type, adult movie flag, genre, ratings and the number of votes a title has received."
   ]
  },
  {
   "cell_type": "code",
   "execution_count": 1,
   "id": "ae41996f",
   "metadata": {},
   "outputs": [],
   "source": [
    "import numpy as np # linear algebra\n",
    "import pandas as pd # data processing, CSV file I/O\n",
    "import matplotlib.pyplot as plt\n",
    "import seaborn as sns\n",
    "from sklearn.decomposition import PCA\n",
    "from sklearn.discriminant_analysis import LinearDiscriminantAnalysis\n",
    "\n",
    "pd.set_option('display.max_rows',1000)\n",
    "pd.set_option('display.max_columns',1000)"
   ]
  },
  {
   "cell_type": "code",
   "execution_count": 2,
   "id": "cf6067ad",
   "metadata": {},
   "outputs": [
    {
     "data": {
      "text/plain": [
       "(9490674, 9)"
      ]
     },
     "execution_count": 2,
     "metadata": {},
     "output_type": "execute_result"
    }
   ],
   "source": [
    "# Read IMDb Basics & Ratings datasets\n",
    "# The basics includes 9 features for 9 million titles (as of January 02, 2022)\n",
    "\n",
    "# tconst (string) - alphanumeric unique identifier of the title\n",
    "# titleType (string) – the type/format of the title (e.g. movie, short, tvseries, tvepisode, video, etc)\n",
    "# primaryTitle (string) – the more popular title / the title used by the filmmakers on promotional materials at the point of release\n",
    "# originalTitle (string) - original title, in the original language\n",
    "# isAdult (boolean) - 0: non-adult title; 1: adult title\n",
    "# startYear (YYYY) – represents the release year of a title. In the case of TV Series, it is the series start year\n",
    "# endYear (YYYY) – TV Series end year. ‘\\N’ for all other title types\n",
    "# runtimeMinutes – primary runtime of the title, in minutes\n",
    "# genres (string array) – includes up to three genres associated with the title\n",
    "\n",
    "basics_tsv_file =\"title.basics.tsv\"\n",
    "basics = pd.read_csv(basics_tsv_file, sep='\\t',low_memory=False)\n",
    "basics.shape"
   ]
  },
  {
   "cell_type": "code",
   "execution_count": 3,
   "id": "02de8e8e",
   "metadata": {},
   "outputs": [
    {
     "data": {
      "text/plain": [
       "(1261705, 3)"
      ]
     },
     "execution_count": 3,
     "metadata": {},
     "output_type": "execute_result"
    }
   ],
   "source": [
    "# There are 1.2 million movies in the ratings datasets (as of January 02, 2022)\n",
    "# The ratings includes 3 features for 1 million titles\n",
    "\n",
    "#title.ratings.tsv.gz – Contains the IMDb rating and votes information for titles\n",
    "#tconst (string) - alphanumeric unique identifier of the title\n",
    "#averageRating – weighted average of all the individual user ratings\n",
    "#numVotes - number of votes the title has received\n",
    "ratings_tsv_file = \"title.ratings.tsv\"\n",
    "ratings = pd.read_csv(ratings_tsv_file, sep='\\t')\n",
    "\n",
    "ratings.shape"
   ]
  },
  {
   "cell_type": "code",
   "execution_count": 4,
   "id": "ad496630",
   "metadata": {},
   "outputs": [
    {
     "data": {
      "text/plain": [
       "(1261705, 11)"
      ]
     },
     "execution_count": 4,
     "metadata": {},
     "output_type": "execute_result"
    }
   ],
   "source": [
    "# Merge IMDb Basics & Ratings datasets by tconst\n",
    "# The new dataset has alomost 1.2 million movies\n",
    "data = pd.merge(basics, ratings, on =\"tconst\")\n",
    "data.shape"
   ]
  },
  {
   "cell_type": "markdown",
   "id": "948f9269",
   "metadata": {},
   "source": [
    "As I merge the two datasets, we see that the number of titles did not decreased after merge. This implied that all the titles included in title.ratings are actually a subset of the titles in title.basics; this is good news as it means that all titles with ratings have basic information in place.\n",
    "With that, the merged dataset as shown below has almost 1.2 million titles and 11 dimensions, where various analysis tools can be applied on."
   ]
  },
  {
   "cell_type": "code",
   "execution_count": 5,
   "id": "fe490b40",
   "metadata": {},
   "outputs": [
    {
     "data": {
      "text/html": [
       "<div>\n",
       "<style scoped>\n",
       "    .dataframe tbody tr th:only-of-type {\n",
       "        vertical-align: middle;\n",
       "    }\n",
       "\n",
       "    .dataframe tbody tr th {\n",
       "        vertical-align: top;\n",
       "    }\n",
       "\n",
       "    .dataframe thead th {\n",
       "        text-align: right;\n",
       "    }\n",
       "</style>\n",
       "<table border=\"1\" class=\"dataframe\">\n",
       "  <thead>\n",
       "    <tr style=\"text-align: right;\">\n",
       "      <th></th>\n",
       "      <th>tconst</th>\n",
       "      <th>titleType</th>\n",
       "      <th>primaryTitle</th>\n",
       "      <th>originalTitle</th>\n",
       "      <th>isAdult</th>\n",
       "      <th>startYear</th>\n",
       "      <th>endYear</th>\n",
       "      <th>runtimeMinutes</th>\n",
       "      <th>genres</th>\n",
       "      <th>averageRating</th>\n",
       "      <th>numVotes</th>\n",
       "    </tr>\n",
       "  </thead>\n",
       "  <tbody>\n",
       "    <tr>\n",
       "      <th>0</th>\n",
       "      <td>tt0000001</td>\n",
       "      <td>short</td>\n",
       "      <td>Carmencita</td>\n",
       "      <td>Carmencita</td>\n",
       "      <td>0</td>\n",
       "      <td>1894</td>\n",
       "      <td>\\N</td>\n",
       "      <td>1</td>\n",
       "      <td>Documentary,Short</td>\n",
       "      <td>5.7</td>\n",
       "      <td>1930</td>\n",
       "    </tr>\n",
       "    <tr>\n",
       "      <th>1</th>\n",
       "      <td>tt0000002</td>\n",
       "      <td>short</td>\n",
       "      <td>Le clown et ses chiens</td>\n",
       "      <td>Le clown et ses chiens</td>\n",
       "      <td>0</td>\n",
       "      <td>1892</td>\n",
       "      <td>\\N</td>\n",
       "      <td>5</td>\n",
       "      <td>Animation,Short</td>\n",
       "      <td>5.8</td>\n",
       "      <td>261</td>\n",
       "    </tr>\n",
       "    <tr>\n",
       "      <th>2</th>\n",
       "      <td>tt0000003</td>\n",
       "      <td>short</td>\n",
       "      <td>Pauvre Pierrot</td>\n",
       "      <td>Pauvre Pierrot</td>\n",
       "      <td>0</td>\n",
       "      <td>1892</td>\n",
       "      <td>\\N</td>\n",
       "      <td>4</td>\n",
       "      <td>Animation,Comedy,Romance</td>\n",
       "      <td>6.5</td>\n",
       "      <td>1750</td>\n",
       "    </tr>\n",
       "    <tr>\n",
       "      <th>3</th>\n",
       "      <td>tt0000004</td>\n",
       "      <td>short</td>\n",
       "      <td>Un bon bock</td>\n",
       "      <td>Un bon bock</td>\n",
       "      <td>0</td>\n",
       "      <td>1892</td>\n",
       "      <td>\\N</td>\n",
       "      <td>12</td>\n",
       "      <td>Animation,Short</td>\n",
       "      <td>5.6</td>\n",
       "      <td>176</td>\n",
       "    </tr>\n",
       "    <tr>\n",
       "      <th>4</th>\n",
       "      <td>tt0000005</td>\n",
       "      <td>short</td>\n",
       "      <td>Blacksmith Scene</td>\n",
       "      <td>Blacksmith Scene</td>\n",
       "      <td>0</td>\n",
       "      <td>1893</td>\n",
       "      <td>\\N</td>\n",
       "      <td>1</td>\n",
       "      <td>Comedy,Short</td>\n",
       "      <td>6.2</td>\n",
       "      <td>2563</td>\n",
       "    </tr>\n",
       "    <tr>\n",
       "      <th>5</th>\n",
       "      <td>tt0000006</td>\n",
       "      <td>short</td>\n",
       "      <td>Chinese Opium Den</td>\n",
       "      <td>Chinese Opium Den</td>\n",
       "      <td>0</td>\n",
       "      <td>1894</td>\n",
       "      <td>\\N</td>\n",
       "      <td>1</td>\n",
       "      <td>Short</td>\n",
       "      <td>5.1</td>\n",
       "      <td>176</td>\n",
       "    </tr>\n",
       "    <tr>\n",
       "      <th>6</th>\n",
       "      <td>tt0000007</td>\n",
       "      <td>short</td>\n",
       "      <td>Corbett and Courtney Before the Kinetograph</td>\n",
       "      <td>Corbett and Courtney Before the Kinetograph</td>\n",
       "      <td>0</td>\n",
       "      <td>1894</td>\n",
       "      <td>\\N</td>\n",
       "      <td>1</td>\n",
       "      <td>Short,Sport</td>\n",
       "      <td>5.4</td>\n",
       "      <td>803</td>\n",
       "    </tr>\n",
       "    <tr>\n",
       "      <th>7</th>\n",
       "      <td>tt0000008</td>\n",
       "      <td>short</td>\n",
       "      <td>Edison Kinetoscopic Record of a Sneeze</td>\n",
       "      <td>Edison Kinetoscopic Record of a Sneeze</td>\n",
       "      <td>0</td>\n",
       "      <td>1894</td>\n",
       "      <td>\\N</td>\n",
       "      <td>1</td>\n",
       "      <td>Documentary,Short</td>\n",
       "      <td>5.4</td>\n",
       "      <td>2078</td>\n",
       "    </tr>\n",
       "    <tr>\n",
       "      <th>8</th>\n",
       "      <td>tt0000009</td>\n",
       "      <td>movie</td>\n",
       "      <td>Miss Jerry</td>\n",
       "      <td>Miss Jerry</td>\n",
       "      <td>0</td>\n",
       "      <td>1894</td>\n",
       "      <td>\\N</td>\n",
       "      <td>45</td>\n",
       "      <td>Romance</td>\n",
       "      <td>5.3</td>\n",
       "      <td>201</td>\n",
       "    </tr>\n",
       "    <tr>\n",
       "      <th>9</th>\n",
       "      <td>tt0000010</td>\n",
       "      <td>short</td>\n",
       "      <td>Leaving the Factory</td>\n",
       "      <td>La sortie de l'usine Lumière à Lyon</td>\n",
       "      <td>0</td>\n",
       "      <td>1895</td>\n",
       "      <td>\\N</td>\n",
       "      <td>1</td>\n",
       "      <td>Documentary,Short</td>\n",
       "      <td>6.9</td>\n",
       "      <td>7009</td>\n",
       "    </tr>\n",
       "  </tbody>\n",
       "</table>\n",
       "</div>"
      ],
      "text/plain": [
       "      tconst titleType                                 primaryTitle  \\\n",
       "0  tt0000001     short                                   Carmencita   \n",
       "1  tt0000002     short                       Le clown et ses chiens   \n",
       "2  tt0000003     short                               Pauvre Pierrot   \n",
       "3  tt0000004     short                                  Un bon bock   \n",
       "4  tt0000005     short                             Blacksmith Scene   \n",
       "5  tt0000006     short                            Chinese Opium Den   \n",
       "6  tt0000007     short  Corbett and Courtney Before the Kinetograph   \n",
       "7  tt0000008     short       Edison Kinetoscopic Record of a Sneeze   \n",
       "8  tt0000009     movie                                   Miss Jerry   \n",
       "9  tt0000010     short                          Leaving the Factory   \n",
       "\n",
       "                                 originalTitle isAdult startYear endYear  \\\n",
       "0                                   Carmencita       0      1894      \\N   \n",
       "1                       Le clown et ses chiens       0      1892      \\N   \n",
       "2                               Pauvre Pierrot       0      1892      \\N   \n",
       "3                                  Un bon bock       0      1892      \\N   \n",
       "4                             Blacksmith Scene       0      1893      \\N   \n",
       "5                            Chinese Opium Den       0      1894      \\N   \n",
       "6  Corbett and Courtney Before the Kinetograph       0      1894      \\N   \n",
       "7       Edison Kinetoscopic Record of a Sneeze       0      1894      \\N   \n",
       "8                                   Miss Jerry       0      1894      \\N   \n",
       "9          La sortie de l'usine Lumière à Lyon       0      1895      \\N   \n",
       "\n",
       "  runtimeMinutes                    genres  averageRating  numVotes  \n",
       "0              1         Documentary,Short            5.7      1930  \n",
       "1              5           Animation,Short            5.8       261  \n",
       "2              4  Animation,Comedy,Romance            6.5      1750  \n",
       "3             12           Animation,Short            5.6       176  \n",
       "4              1              Comedy,Short            6.2      2563  \n",
       "5              1                     Short            5.1       176  \n",
       "6              1               Short,Sport            5.4       803  \n",
       "7              1         Documentary,Short            5.4      2078  \n",
       "8             45                   Romance            5.3       201  \n",
       "9              1         Documentary,Short            6.9      7009  "
      ]
     },
     "execution_count": 5,
     "metadata": {},
     "output_type": "execute_result"
    }
   ],
   "source": [
    "data.head(10)"
   ]
  },
  {
   "cell_type": "code",
   "execution_count": 6,
   "id": "931368e1",
   "metadata": {},
   "outputs": [
    {
     "name": "stdout",
     "output_type": "stream",
     "text": [
      "<class 'pandas.core.frame.DataFrame'>\n",
      "Int64Index: 1261705 entries, 0 to 1261704\n",
      "Data columns (total 11 columns):\n",
      " #   Column          Non-Null Count    Dtype  \n",
      "---  ------          --------------    -----  \n",
      " 0   tconst          1261705 non-null  object \n",
      " 1   titleType       1261705 non-null  object \n",
      " 2   primaryTitle    1261705 non-null  object \n",
      " 3   originalTitle   1261705 non-null  object \n",
      " 4   isAdult         1261705 non-null  object \n",
      " 5   startYear       1261705 non-null  object \n",
      " 6   endYear         1261705 non-null  object \n",
      " 7   runtimeMinutes  1261705 non-null  object \n",
      " 8   genres          1261703 non-null  object \n",
      " 9   averageRating   1261705 non-null  float64\n",
      " 10  numVotes        1261705 non-null  int64  \n",
      "dtypes: float64(1), int64(1), object(9)\n",
      "memory usage: 115.5+ MB\n"
     ]
    }
   ],
   "source": [
    "data.info()"
   ]
  },
  {
   "cell_type": "code",
   "execution_count": 7,
   "id": "100fa8c2",
   "metadata": {},
   "outputs": [
    {
     "data": {
      "text/html": [
       "<div>\n",
       "<style scoped>\n",
       "    .dataframe tbody tr th:only-of-type {\n",
       "        vertical-align: middle;\n",
       "    }\n",
       "\n",
       "    .dataframe tbody tr th {\n",
       "        vertical-align: top;\n",
       "    }\n",
       "\n",
       "    .dataframe thead th {\n",
       "        text-align: right;\n",
       "    }\n",
       "</style>\n",
       "<table border=\"1\" class=\"dataframe\">\n",
       "  <thead>\n",
       "    <tr style=\"text-align: right;\">\n",
       "      <th></th>\n",
       "      <th>tconst</th>\n",
       "      <th>titleType</th>\n",
       "      <th>primaryTitle</th>\n",
       "      <th>originalTitle</th>\n",
       "      <th>isAdult</th>\n",
       "      <th>startYear</th>\n",
       "      <th>endYear</th>\n",
       "      <th>runtimeMinutes</th>\n",
       "      <th>genres</th>\n",
       "      <th>averageRating</th>\n",
       "      <th>numVotes</th>\n",
       "    </tr>\n",
       "  </thead>\n",
       "  <tbody>\n",
       "    <tr>\n",
       "      <th>count</th>\n",
       "      <td>1261705</td>\n",
       "      <td>1261705</td>\n",
       "      <td>1261705</td>\n",
       "      <td>1261705</td>\n",
       "      <td>1261705</td>\n",
       "      <td>1261705</td>\n",
       "      <td>1261705</td>\n",
       "      <td>1261705</td>\n",
       "      <td>1261703</td>\n",
       "      <td>1.261705e+06</td>\n",
       "      <td>1.261705e+06</td>\n",
       "    </tr>\n",
       "    <tr>\n",
       "      <th>unique</th>\n",
       "      <td>1261705</td>\n",
       "      <td>10</td>\n",
       "      <td>947831</td>\n",
       "      <td>962397</td>\n",
       "      <td>4</td>\n",
       "      <td>145</td>\n",
       "      <td>82</td>\n",
       "      <td>715</td>\n",
       "      <td>2030</td>\n",
       "      <td>NaN</td>\n",
       "      <td>NaN</td>\n",
       "    </tr>\n",
       "    <tr>\n",
       "      <th>top</th>\n",
       "      <td>tt0000001</td>\n",
       "      <td>tvEpisode</td>\n",
       "      <td>Episode #1.1</td>\n",
       "      <td>Episode #1.1</td>\n",
       "      <td>0</td>\n",
       "      <td>2019</td>\n",
       "      <td>\\N</td>\n",
       "      <td>\\N</td>\n",
       "      <td>Comedy</td>\n",
       "      <td>NaN</td>\n",
       "      <td>NaN</td>\n",
       "    </tr>\n",
       "    <tr>\n",
       "      <th>freq</th>\n",
       "      <td>1</td>\n",
       "      <td>610365</td>\n",
       "      <td>4901</td>\n",
       "      <td>4901</td>\n",
       "      <td>1241991</td>\n",
       "      <td>56787</td>\n",
       "      <td>1218960</td>\n",
       "      <td>351831</td>\n",
       "      <td>105355</td>\n",
       "      <td>NaN</td>\n",
       "      <td>NaN</td>\n",
       "    </tr>\n",
       "    <tr>\n",
       "      <th>mean</th>\n",
       "      <td>NaN</td>\n",
       "      <td>NaN</td>\n",
       "      <td>NaN</td>\n",
       "      <td>NaN</td>\n",
       "      <td>NaN</td>\n",
       "      <td>NaN</td>\n",
       "      <td>NaN</td>\n",
       "      <td>NaN</td>\n",
       "      <td>NaN</td>\n",
       "      <td>6.952864e+00</td>\n",
       "      <td>1.042686e+03</td>\n",
       "    </tr>\n",
       "    <tr>\n",
       "      <th>std</th>\n",
       "      <td>NaN</td>\n",
       "      <td>NaN</td>\n",
       "      <td>NaN</td>\n",
       "      <td>NaN</td>\n",
       "      <td>NaN</td>\n",
       "      <td>NaN</td>\n",
       "      <td>NaN</td>\n",
       "      <td>NaN</td>\n",
       "      <td>NaN</td>\n",
       "      <td>1.386562e+00</td>\n",
       "      <td>1.732245e+04</td>\n",
       "    </tr>\n",
       "    <tr>\n",
       "      <th>min</th>\n",
       "      <td>NaN</td>\n",
       "      <td>NaN</td>\n",
       "      <td>NaN</td>\n",
       "      <td>NaN</td>\n",
       "      <td>NaN</td>\n",
       "      <td>NaN</td>\n",
       "      <td>NaN</td>\n",
       "      <td>NaN</td>\n",
       "      <td>NaN</td>\n",
       "      <td>1.000000e+00</td>\n",
       "      <td>5.000000e+00</td>\n",
       "    </tr>\n",
       "    <tr>\n",
       "      <th>25%</th>\n",
       "      <td>NaN</td>\n",
       "      <td>NaN</td>\n",
       "      <td>NaN</td>\n",
       "      <td>NaN</td>\n",
       "      <td>NaN</td>\n",
       "      <td>NaN</td>\n",
       "      <td>NaN</td>\n",
       "      <td>NaN</td>\n",
       "      <td>NaN</td>\n",
       "      <td>6.200000e+00</td>\n",
       "      <td>1.200000e+01</td>\n",
       "    </tr>\n",
       "    <tr>\n",
       "      <th>50%</th>\n",
       "      <td>NaN</td>\n",
       "      <td>NaN</td>\n",
       "      <td>NaN</td>\n",
       "      <td>NaN</td>\n",
       "      <td>NaN</td>\n",
       "      <td>NaN</td>\n",
       "      <td>NaN</td>\n",
       "      <td>NaN</td>\n",
       "      <td>NaN</td>\n",
       "      <td>7.100000e+00</td>\n",
       "      <td>2.600000e+01</td>\n",
       "    </tr>\n",
       "    <tr>\n",
       "      <th>75%</th>\n",
       "      <td>NaN</td>\n",
       "      <td>NaN</td>\n",
       "      <td>NaN</td>\n",
       "      <td>NaN</td>\n",
       "      <td>NaN</td>\n",
       "      <td>NaN</td>\n",
       "      <td>NaN</td>\n",
       "      <td>NaN</td>\n",
       "      <td>NaN</td>\n",
       "      <td>7.900000e+00</td>\n",
       "      <td>1.020000e+02</td>\n",
       "    </tr>\n",
       "    <tr>\n",
       "      <th>max</th>\n",
       "      <td>NaN</td>\n",
       "      <td>NaN</td>\n",
       "      <td>NaN</td>\n",
       "      <td>NaN</td>\n",
       "      <td>NaN</td>\n",
       "      <td>NaN</td>\n",
       "      <td>NaN</td>\n",
       "      <td>NaN</td>\n",
       "      <td>NaN</td>\n",
       "      <td>1.000000e+01</td>\n",
       "      <td>2.677902e+06</td>\n",
       "    </tr>\n",
       "  </tbody>\n",
       "</table>\n",
       "</div>"
      ],
      "text/plain": [
       "           tconst  titleType  primaryTitle originalTitle  isAdult startYear  \\\n",
       "count     1261705    1261705       1261705       1261705  1261705   1261705   \n",
       "unique    1261705         10        947831        962397        4       145   \n",
       "top     tt0000001  tvEpisode  Episode #1.1  Episode #1.1        0      2019   \n",
       "freq            1     610365          4901          4901  1241991     56787   \n",
       "mean          NaN        NaN           NaN           NaN      NaN       NaN   \n",
       "std           NaN        NaN           NaN           NaN      NaN       NaN   \n",
       "min           NaN        NaN           NaN           NaN      NaN       NaN   \n",
       "25%           NaN        NaN           NaN           NaN      NaN       NaN   \n",
       "50%           NaN        NaN           NaN           NaN      NaN       NaN   \n",
       "75%           NaN        NaN           NaN           NaN      NaN       NaN   \n",
       "max           NaN        NaN           NaN           NaN      NaN       NaN   \n",
       "\n",
       "        endYear runtimeMinutes   genres  averageRating      numVotes  \n",
       "count   1261705        1261705  1261703   1.261705e+06  1.261705e+06  \n",
       "unique       82            715     2030            NaN           NaN  \n",
       "top          \\N             \\N   Comedy            NaN           NaN  \n",
       "freq    1218960         351831   105355            NaN           NaN  \n",
       "mean        NaN            NaN      NaN   6.952864e+00  1.042686e+03  \n",
       "std         NaN            NaN      NaN   1.386562e+00  1.732245e+04  \n",
       "min         NaN            NaN      NaN   1.000000e+00  5.000000e+00  \n",
       "25%         NaN            NaN      NaN   6.200000e+00  1.200000e+01  \n",
       "50%         NaN            NaN      NaN   7.100000e+00  2.600000e+01  \n",
       "75%         NaN            NaN      NaN   7.900000e+00  1.020000e+02  \n",
       "max         NaN            NaN      NaN   1.000000e+01  2.677902e+06  "
      ]
     },
     "execution_count": 7,
     "metadata": {},
     "output_type": "execute_result"
    }
   ],
   "source": [
    "data.describe(include= \"all\")"
   ]
  },
  {
   "cell_type": "code",
   "execution_count": 8,
   "id": "6b2c3bc5",
   "metadata": {},
   "outputs": [
    {
     "data": {
      "text/plain": [
       "<seaborn.axisgrid.PairGrid at 0x7fefeb4a2250>"
      ]
     },
     "execution_count": 8,
     "metadata": {},
     "output_type": "execute_result"
    },
    {
     "data": {
      "image/png": "[encoded data removed]",
      "text/plain": [
       "<Figure size 638x500 with 6 Axes>"
      ]
     },
     "metadata": {},
     "output_type": "display_data"
    }
   ],
   "source": [
    "# Pair plots - scatterplots for joint relationships and histograms for univariate distributions\n",
    "sns.set(style=\"ticks\", color_codes=True)\n",
    "sns.pairplot(data, hue= 'titleType')"
   ]
  },
  {
   "cell_type": "code",
   "execution_count": null,
   "id": "f431d800",
   "metadata": {},
   "outputs": [],
   "source": [
    "# Distribution of the 10 Title Types (bar chart)\n",
    "import matplotlib.pyplot as plt\n",
    "ax = data['titleType'].value_counts().plot(kind='barh', color=(0.2, 0.4, 0.6, 0.6))\n",
    "import matplotlib.ticker as mtick\n",
    "fmt = '{x:,.0f}'\n",
    "tick = mtick.StrMethodFormatter(fmt)\n",
    "ax.xaxis.set_major_formatter(tick) \n",
    "plt.xticks()\n",
    "\n",
    "plt.title('Bar Chart - Number of Titles by IMDb Title Types')"
   ]
  },
  {
   "cell_type": "markdown",
   "id": "00d7f378",
   "metadata": {},
   "source": [
    "Types & Genres of Titles---\n",
    "For the Tiles Types, Pareto 80/20 rule is definitely true here. There are in total 10 different Title Types, where the top ones with the highest number of titles are TV Episodes (accounting for almost half of the titles), followed by Movies and Short Films. These top three types in total account for over 80% of the total number of titles. On the other hand,the bottom 3 types with the least number of titles (TV short, TV special and TV mini series) in total account for less than 10% of the total number of titles."
   ]
  },
  {
   "cell_type": "code",
   "execution_count": 10,
   "id": "615c1149",
   "metadata": {},
   "outputs": [
    {
     "data": {
      "text/plain": [
       "Text(0.5, 1.0, 'Pie Chart - Number of Titles by IMDb Title Types')"
      ]
     },
     "execution_count": 10,
     "metadata": {},
     "output_type": "execute_result"
    }
   ],
   "source": [
    "# Distribution of the 10 Title Types (pie chart in colors)\n",
    "cmap = plt.get_cmap('Pastel1')\n",
    "colors = [cmap(i) for i in np.linspace(0, 1, 8)]\n",
    "\n",
    "data['titleType'].value_counts().plot(kind='pie', subplots=True,autopct='%1.1f%%', figsize=(8, 8), colors=colors)\n",
    "plt.title('Pie Chart - Number of Titles by IMDb Title Types')"
   ]
  },
  {
   "cell_type": "code",
   "execution_count": 11,
   "id": "18925e08",
   "metadata": {},
   "outputs": [
    {
     "data": {
      "text/plain": [
       "Comedy                        105355\n",
       "Drama                          94841\n",
       "Documentary                    72242\n",
       "Action,Adventure,Animation     39686\n",
       "Reality-TV                     28653\n",
       "Name: genres, dtype: int64"
      ]
     },
     "execution_count": 11,
     "metadata": {},
     "output_type": "execute_result"
    }
   ],
   "source": [
    "# Check genres \n",
    "data['genres'].value_counts().head()"
   ]
  },
  {
   "cell_type": "markdown",
   "id": "10556fa6",
   "metadata": {},
   "source": [
    "For the Tiles Genres, IMDb has a long list of almost 2,000 different genres. And as can be seen, the distribution of genres has a long tail where only the top 3 Genres (Comedy, Drama and Documentary) take a share for more than 5% but all other genres account for nothing more than 3%.\n",
    "Note that the long tail may be resulted from an overly complicated classification among different genres. For example, while “Comedy” accounts for 9%, there are lots of similar but slightly different genres such as “Comedy, Drama” (2%), “Comedy, short” (2%), or even “Adventure, Animation, Comedy” (1%) etc etc, each taking up some of the shares that could’ve been classified as “Comedy”. Not to mention how one movie can be strictly classified as “Adventure, Animation, Comedy” instead of simply “Action, Adventure, Animation” or “Comedy.”"
   ]
  },
  {
   "cell_type": "code",
   "execution_count": 12,
   "id": "9f47898d",
   "metadata": {},
   "outputs": [
    {
     "data": {
      "text/plain": [
       "Text(0.5, 1.0, 'Pie Chart - Number of Titles by IMDb genres')"
      ]
     },
     "execution_count": 12,
     "metadata": {},
     "output_type": "execute_result"
    }
   ],
   "source": [
    "# Distribution of the 10 genres (pie chart in cute colors)\n",
    "cmap = plt.get_cmap('Pastel1')\n",
    "colors = [cmap(i) for i in np.linspace(0, 1, 8)]\n",
    "\n",
    "data['genres'].value_counts().plot(kind='pie', subplots=True, autopct='%1.0f%%', figsize=(10, 10), colors=colors)\n",
    "plt.title('Pie Chart - Number of Titles by IMDb genres')"
   ]
  },
  {
   "cell_type": "code",
   "execution_count": 13,
   "id": "413878dc",
   "metadata": {},
   "outputs": [
    {
     "data": {
      "text/plain": [
       "Text(0.5, 1.0, 'Bar Chart - Number of Titles by IMDb genres')"
      ]
     },
     "execution_count": 13,
     "metadata": {},
     "output_type": "execute_result"
    }
   ],
   "source": [
    "# Distribution of the 10 Title Types (bar chart)\n",
    "cmap = plt.get_cmap('Pastel1')\n",
    "colors = [cmap(i) for i in np.linspace(0, 1, 8)]\n",
    "\n",
    "import matplotlib.pyplot as plt\n",
    "ax = data['genres'].value_counts().head(15).plot(kind='barh', figsize=(20,10), color=colors)\n",
    "# color=(0.2, 0.4, 0.6, 0.6),\n",
    "plt.title('Bar Chart - Number of Titles by IMDb genres')"
   ]
  },
  {
   "cell_type": "code",
   "execution_count": 14,
   "id": "213c578b",
   "metadata": {},
   "outputs": [],
   "source": [
    "# Lesson learned 1: can't use astype where NaN's are applicable\n",
    "# Instead, use pd.to_numeric & pd.to_datetime\n",
    "# Lesson learned 2: had i transformed the types without looking into the details, i would've transfered\n",
    "# the incorrect 2014 and 2019 into isAdult 1\n",
    "# Just keep the isAdult as is...\n",
    "data['isAdult']=data['isAdult'].astype('bool')\n",
    "data['runtimeMinutes']= pd.to_numeric(data['runtimeMinutes'], errors='coerce')\n",
    "data['startYear']= pd.to_datetime(data['startYear'], errors='coerce')\n",
    "data['endYear']= pd.to_datetime(data['endYear'], errors='coerce')"
   ]
  },
  {
   "cell_type": "code",
   "execution_count": 15,
   "id": "e7e8f10f",
   "metadata": {},
   "outputs": [
    {
     "name": "stdout",
     "output_type": "stream",
     "text": [
      "<class 'pandas.core.frame.DataFrame'>\n",
      "Int64Index: 1261705 entries, 0 to 1261704\n",
      "Data columns (total 11 columns):\n",
      " #   Column          Non-Null Count    Dtype         \n",
      "---  ------          --------------    -----         \n",
      " 0   tconst          1261705 non-null  object        \n",
      " 1   titleType       1261705 non-null  object        \n",
      " 2   primaryTitle    1261705 non-null  object        \n",
      " 3   originalTitle   1261705 non-null  object        \n",
      " 4   isAdult         1261705 non-null  bool          \n",
      " 5   startYear       1261463 non-null  datetime64[ns]\n",
      " 6   endYear         42745 non-null    datetime64[ns]\n",
      " 7   runtimeMinutes  909872 non-null   float64       \n",
      " 8   genres          1261703 non-null  object        \n",
      " 9   averageRating   1261705 non-null  float64       \n",
      " 10  numVotes        1261705 non-null  int64         \n",
      "dtypes: bool(1), datetime64[ns](2), float64(2), int64(1), object(5)\n",
      "memory usage: 139.3+ MB\n"
     ]
    }
   ],
   "source": [
    "data.info()"
   ]
  },
  {
   "cell_type": "code",
   "execution_count": 16,
   "id": "a9a50349",
   "metadata": {},
   "outputs": [
    {
     "data": {
      "text/plain": [
       "<seaborn.axisgrid.PairGrid at 0x7fefeb06a8e0>"
      ]
     },
     "execution_count": 16,
     "metadata": {},
     "output_type": "execute_result"
    }
   ],
   "source": [
    "# Pair plots - scatterplots for joint relationships and histograms for univariate distributions\n",
    "sns.set(style=\"ticks\", color_codes=True)\n",
    "sns.pairplot(data, hue= 'titleType')"
   ]
  },
  {
   "cell_type": "markdown",
   "id": "81d02646",
   "metadata": {},
   "source": [
    "Adult or X-Rated Movies\n",
    "\n",
    "IMDb has a “isAdult” factor which is a boolean (0/1) variable in the basic dataset that flags out 18+ Adult Movies. As from the above pie chart, there are minimal number of Adult Movies in the IMDb database, accounting for only 1.8% of the total number of titles.\n",
    "(*Note to transform the dtype from object to boolean before doing the analysis as the default dtype can be misleading for further analysis)"
   ]
  },
  {
   "cell_type": "code",
   "execution_count": 17,
   "id": "23496e02",
   "metadata": {},
   "outputs": [
    {
     "data": {
      "text/plain": [
       "Text(0.5, 1.0, 'Pie Chart - Adult Titles or Not')"
      ]
     },
     "execution_count": 17,
     "metadata": {},
     "output_type": "execute_result"
    }
   ],
   "source": [
    "# Distribution of Adult movies (pie chart)\n",
    "# 98.2% of the movies are not Adult ones\n",
    "cmap = plt.get_cmap('Pastel1')\n",
    "colors = [cmap(i) for i in np.linspace(0, 1, 8)]\n",
    "\n",
    "data['isAdult'].value_counts().plot(kind='pie', subplots=True,autopct='%1.1f%%', figsize=(8, 8), colors=colors)\n",
    "plt.title('Pie Chart - Adult Titles or Not')"
   ]
  },
  {
   "cell_type": "markdown",
   "id": "15c94877",
   "metadata": {},
   "source": [
    "Ratings\n",
    "\n",
    "Average  movie rating is around 7 out 10.\n",
    "Here’s a box-and-whisker diagram that helps describe the differences in Ratings distribution among and within each Title Type. First, it is interesting to see that instead of a normal Gaussian distribution, overall the Ratings are very skewed to the right. Instead of having a medium rating of 5, the typical medium average rating is around 7.\n",
    "\n",
    "\n",
    "Ratings for TV Episodes are much higher than Movies.\n",
    "Also, among the ten Title Types, Ratings for TV Episodes are overall higher with less variation compared to Movies, which brings up an interesting question: is it really because the quality of TV Episodes is significantly better than Movies in general? Do people tend to hold a higher standard and be more critical on Movies? These are yet to be answered but for sure if you see a TV Episode with Ratings of 7, it is likely just an average series. On the other hand, make sure to check out a movie with Ratings of 7!"
   ]
  },
  {
   "cell_type": "code",
   "execution_count": 19,
   "id": "a6f63591",
   "metadata": {},
   "outputs": [],
   "source": [
    "# Distribution of the averageRating\n",
    "# Skewed to the left\n",
    "sns.catplot(x=\"titleType\", y=\"averageRating\", hue=\"titleType\", height =10, palette=\"pastel\",\n",
    "            kind=\"box\", dodge=False, data=data);"
   ]
  },
  {
   "cell_type": "code",
   "execution_count": null,
   "id": "69c97e06",
   "metadata": {},
   "outputs": [],
   "source": []
  }
 ],
 "metadata": {
  "kernelspec": {
   "display_name": "Python 3 (ipykernel)",
   "language": "python",
   "name": "python3"
  },
  "language_info": {
   "codemirror_mode": {
    "name": "ipython",
    "version": 3
   },
   "file_extension": ".py",
   "mimetype": "text/x-python",
   "name": "python",
   "nbconvert_exporter": "python",
   "pygments_lexer": "ipython3",
   "version": "3.9.13"
  }
 },
 "nbformat": 4,
 "nbformat_minor": 5
}
